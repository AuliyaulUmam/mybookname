{
 "cells": [
  {
   "cell_type": "markdown",
   "metadata": {
    "id": "ppzAj1m_Nmtj"
   },
   "source": [
    "# PreProcessing Data\n",
    "Data preprocessing adalah proses yang mengubah data mentah ke dalam bentuk yang lebih mudah dipahami. Proses ini penting dilakukan karena data mentah sering kali tidak memiliki format yang teratur. Selain itu, data mining juga tidak dapat memproses data mentah, sehingga proses ini sangat penting dilakukan untuk mempermudah proses berikutnya, yakni analisis data."
   ]
  },
  {
   "cell_type": "markdown",
   "metadata": {
    "id": "XzTFyT16NyVh"
   },
   "source": [
    "## Pandas\n",
    "Pandas adalah sebuah library di Python yang berlisensi BSD dan open source yang menyediakan struktur data dan analisis data yang mudah digunakan. Pandas biasa digunakan untuk membuat tabel, mengubah dimensi data, mengecek data, dan lain sebagainya. Struktur data dasar pada Pandas dinamakan DataFrame, yang memudahkan kita untuk membaca sebuah file dengan banyak jenis format seperti file .txt, .csv, dan .tsv. Fitur ini akan menjadikannya table dan juga dapat mengolah suatu data dengan menggunakan operasi seperti join, distinct, group by, agregasi, dan teknik lainnya yang terdapat pada SQL. "
   ]
  },
  {
   "cell_type": "markdown",
   "metadata": {
    "id": "fetY6p8TN23P"
   },
   "source": [
    "### Install Pandas"
   ]
  },
  {
   "cell_type": "code",
   "execution_count": 1,
   "metadata": {
    "id": "JtHBKMxwNHrR"
   },
   "outputs": [
    {
     "name": "stdout",
     "output_type": "stream",
     "text": [
      "Requirement already satisfied: pandas in c:\\users\\acer\\appdata\\local\\programs\\python\\python310\\lib\\site-packages (1.5.0)\n",
      "Requirement already satisfied: python-dateutil>=2.8.1 in c:\\users\\acer\\appdata\\local\\programs\\python\\python310\\lib\\site-packages (from pandas) (2.8.2)\n",
      "Requirement already satisfied: numpy>=1.21.0 in c:\\users\\acer\\appdata\\local\\programs\\python\\python310\\lib\\site-packages (from pandas) (1.23.2)\n",
      "Requirement already satisfied: pytz>=2020.1 in c:\\users\\acer\\appdata\\local\\programs\\python\\python310\\lib\\site-packages (from pandas) (2022.2.1)\n",
      "Requirement already satisfied: six>=1.5 in c:\\users\\acer\\appdata\\local\\programs\\python\\python310\\lib\\site-packages (from python-dateutil>=2.8.1->pandas) (1.16.0)\n"
     ]
    },
    {
     "name": "stderr",
     "output_type": "stream",
     "text": [
      "\n",
      "[notice] A new release of pip available: 22.2.2 -> 22.3\n",
      "[notice] To update, run: python.exe -m pip install --upgrade pip\n"
     ]
    }
   ],
   "source": [
    "!pip install pandas"
   ]
  },
  {
   "cell_type": "markdown",
   "metadata": {
    "id": "MYQgJrmsOEVT"
   },
   "source": [
    "### Import Pandas"
   ]
  },
  {
   "cell_type": "code",
   "execution_count": 2,
   "metadata": {
    "id": "Hsq2SBX8ODHG"
   },
   "outputs": [],
   "source": [
    "import pandas as pd\n",
    "import numpy as np"
   ]
  },
  {
   "cell_type": "markdown",
   "metadata": {
    "id": "y8bApuguOKcl"
   },
   "source": [
    "## Sastrawi\n",
    "Python Sastrawi adalah pengembangan dari proyek PHP Sastrawi. Python Sastrawi merupakan library sederhana yang dapat mengubah kata berimbuhan bahasa Indonesia menjadi bentuk dasarnya."
   ]
  },
  {
   "cell_type": "markdown",
   "metadata": {
    "id": "LURig9NMPFLI"
   },
   "source": [
    "### Install Sastrawi"
   ]
  },
  {
   "cell_type": "code",
   "execution_count": 3,
   "metadata": {
    "id": "I2dtLMNBPHbn"
   },
   "outputs": [
    {
     "name": "stdout",
     "output_type": "stream",
     "text": [
      "Requirement already satisfied: Sastrawi in c:\\users\\acer\\appdata\\local\\programs\\python\\python310\\lib\\site-packages (1.0.1)\n"
     ]
    },
    {
     "name": "stderr",
     "output_type": "stream",
     "text": [
      "\n",
      "[notice] A new release of pip available: 22.2.2 -> 22.3\n",
      "[notice] To update, run: python.exe -m pip install --upgrade pip\n"
     ]
    }
   ],
   "source": [
    "!pip install Sastrawi"
   ]
  },
  {
   "cell_type": "markdown",
   "metadata": {
    "id": "a57tDm1yPVMI"
   },
   "source": [
    "## Swifter\n",
    "Swifter adalah Paket yang secara efisien menerapkan fungsi apa pun ke kerangka data atau seri panda dengan cara tercepat yang tersedia "
   ]
  },
  {
   "cell_type": "markdown",
   "metadata": {
    "id": "pdlysfF6PqWz"
   },
   "source": [
    "### Install Swifter"
   ]
  },
  {
   "cell_type": "code",
   "execution_count": 4,
   "metadata": {
    "id": "yJ7ar4kMPI8L"
   },
   "outputs": [
    {
     "name": "stdout",
     "output_type": "stream",
     "text": [
      "Requirement already satisfied: swifter in c:\\users\\acer\\appdata\\local\\programs\\python\\python310\\lib\\site-packages (1.3.4)"
     ]
    },
    {
     "name": "stderr",
     "output_type": "stream",
     "text": [
      "\n",
      "[notice] A new release of pip available: 22.2.2 -> 22.3\n",
      "[notice] To update, run: python.exe -m pip install --upgrade pip\n"
     ]
    },
    {
     "name": "stdout",
     "output_type": "stream",
     "text": [
      "\n",
      "Requirement already satisfied: dask[dataframe]>=2.10.0 in c:\\users\\acer\\appdata\\local\\programs\\python\\python310\\lib\\site-packages (from swifter) (2022.10.0)\n",
      "Requirement already satisfied: tqdm>=4.33.0 in c:\\users\\acer\\appdata\\local\\programs\\python\\python310\\lib\\site-packages (from swifter) (4.64.1)\n",
      "Requirement already satisfied: ipywidgets>=7.0.0 in c:\\users\\acer\\appdata\\local\\programs\\python\\python310\\lib\\site-packages (from swifter) (7.7.2)\n",
      "Requirement already satisfied: psutil>=5.6.6 in c:\\users\\acer\\appdata\\local\\programs\\python\\python310\\lib\\site-packages (from swifter) (5.9.2)\n",
      "Requirement already satisfied: cloudpickle>=0.2.2 in c:\\users\\acer\\appdata\\local\\programs\\python\\python310\\lib\\site-packages (from swifter) (2.2.0)\n",
      "Requirement already satisfied: parso>0.4.0 in c:\\users\\acer\\appdata\\local\\programs\\python\\python310\\lib\\site-packages (from swifter) (0.8.3)\n",
      "Requirement already satisfied: pandas>=1.0.0 in c:\\users\\acer\\appdata\\local\\programs\\python\\python310\\lib\\site-packages (from swifter) (1.5.0)\n",
      "Requirement already satisfied: bleach>=3.1.1 in c:\\users\\acer\\appdata\\local\\programs\\python\\python310\\lib\\site-packages (from swifter) (5.0.1)\n",
      "Requirement already satisfied: webencodings in c:\\users\\acer\\appdata\\local\\programs\\python\\python310\\lib\\site-packages (from bleach>=3.1.1->swifter) (0.5.1)\n",
      "Requirement already satisfied: six>=1.9.0 in c:\\users\\acer\\appdata\\local\\programs\\python\\python310\\lib\\site-packages (from bleach>=3.1.1->swifter) (1.16.0)\n",
      "Requirement already satisfied: fsspec>=0.6.0 in c:\\users\\acer\\appdata\\local\\programs\\python\\python310\\lib\\site-packages (from dask[dataframe]>=2.10.0->swifter) (2022.8.2)\n",
      "Requirement already satisfied: packaging>=20.0 in c:\\users\\acer\\appdata\\local\\programs\\python\\python310\\lib\\site-packages (from dask[dataframe]>=2.10.0->swifter) (21.3)\n",
      "Requirement already satisfied: pyyaml>=5.3.1 in c:\\users\\acer\\appdata\\local\\programs\\python\\python310\\lib\\site-packages (from dask[dataframe]>=2.10.0->swifter) (6.0)\n",
      "Requirement already satisfied: partd>=0.3.10 in c:\\users\\acer\\appdata\\local\\programs\\python\\python310\\lib\\site-packages (from dask[dataframe]>=2.10.0->swifter) (1.3.0)\n",
      "Requirement already satisfied: toolz>=0.8.2 in c:\\users\\acer\\appdata\\local\\programs\\python\\python310\\lib\\site-packages (from dask[dataframe]>=2.10.0->swifter) (0.12.0)\n",
      "Requirement already satisfied: numpy>=1.18 in c:\\users\\acer\\appdata\\local\\programs\\python\\python310\\lib\\site-packages (from dask[dataframe]>=2.10.0->swifter) (1.23.2)\n",
      "Requirement already satisfied: ipykernel>=4.5.1 in c:\\users\\acer\\appdata\\local\\programs\\python\\python310\\lib\\site-packages (from ipywidgets>=7.0.0->swifter) (6.15.3)\n",
      "Requirement already satisfied: traitlets>=4.3.1 in c:\\users\\acer\\appdata\\local\\programs\\python\\python310\\lib\\site-packages (from ipywidgets>=7.0.0->swifter) (5.4.0)\n",
      "Requirement already satisfied: jupyterlab-widgets<3,>=1.0.0 in c:\\users\\acer\\appdata\\local\\programs\\python\\python310\\lib\\site-packages (from ipywidgets>=7.0.0->swifter) (1.1.1)\n",
      "Requirement already satisfied: ipython>=4.0.0 in c:\\users\\acer\\appdata\\local\\programs\\python\\python310\\lib\\site-packages (from ipywidgets>=7.0.0->swifter) (8.5.0)\n",
      "Requirement already satisfied: widgetsnbextension~=3.6.0 in c:\\users\\acer\\appdata\\local\\programs\\python\\python310\\lib\\site-packages (from ipywidgets>=7.0.0->swifter) (3.6.1)\n",
      "Requirement already satisfied: ipython-genutils~=0.2.0 in c:\\users\\acer\\appdata\\local\\programs\\python\\python310\\lib\\site-packages (from ipywidgets>=7.0.0->swifter) (0.2.0)\n",
      "Requirement already satisfied: pytz>=2020.1 in c:\\users\\acer\\appdata\\local\\programs\\python\\python310\\lib\\site-packages (from pandas>=1.0.0->swifter) (2022.2.1)\n",
      "Requirement already satisfied: python-dateutil>=2.8.1 in c:\\users\\acer\\appdata\\local\\programs\\python\\python310\\lib\\site-packages (from pandas>=1.0.0->swifter) (2.8.2)\n",
      "Requirement already satisfied: colorama in c:\\users\\acer\\appdata\\local\\programs\\python\\python310\\lib\\site-packages (from tqdm>=4.33.0->swifter) (0.4.5)\n",
      "Requirement already satisfied: nest-asyncio in c:\\users\\acer\\appdata\\local\\programs\\python\\python310\\lib\\site-packages (from ipykernel>=4.5.1->ipywidgets>=7.0.0->swifter) (1.5.5)\n",
      "Requirement already satisfied: jupyter-client>=6.1.12 in c:\\users\\acer\\appdata\\local\\programs\\python\\python310\\lib\\site-packages (from ipykernel>=4.5.1->ipywidgets>=7.0.0->swifter) (7.3.5)\n",
      "Requirement already satisfied: matplotlib-inline>=0.1 in c:\\users\\acer\\appdata\\local\\programs\\python\\python310\\lib\\site-packages (from ipykernel>=4.5.1->ipywidgets>=7.0.0->swifter) (0.1.6)\n",
      "Requirement already satisfied: tornado>=6.1 in c:\\users\\acer\\appdata\\local\\programs\\python\\python310\\lib\\site-packages (from ipykernel>=4.5.1->ipywidgets>=7.0.0->swifter) (6.2)\n",
      "Requirement already satisfied: debugpy>=1.0 in c:\\users\\acer\\appdata\\local\\programs\\python\\python310\\lib\\site-packages (from ipykernel>=4.5.1->ipywidgets>=7.0.0->swifter) (1.6.3)\n",
      "Requirement already satisfied: pyzmq>=17 in c:\\users\\acer\\appdata\\local\\programs\\python\\python310\\lib\\site-packages (from ipykernel>=4.5.1->ipywidgets>=7.0.0->swifter) (24.0.1)\n",
      "Requirement already satisfied: jedi>=0.16 in c:\\users\\acer\\appdata\\local\\programs\\python\\python310\\lib\\site-packages (from ipython>=4.0.0->ipywidgets>=7.0.0->swifter) (0.18.1)\n",
      "Requirement already satisfied: decorator in c:\\users\\acer\\appdata\\local\\programs\\python\\python310\\lib\\site-packages (from ipython>=4.0.0->ipywidgets>=7.0.0->swifter) (5.1.1)\n",
      "Requirement already satisfied: backcall in c:\\users\\acer\\appdata\\local\\programs\\python\\python310\\lib\\site-packages (from ipython>=4.0.0->ipywidgets>=7.0.0->swifter) (0.2.0)\n",
      "Requirement already satisfied: stack-data in c:\\users\\acer\\appdata\\local\\programs\\python\\python310\\lib\\site-packages (from ipython>=4.0.0->ipywidgets>=7.0.0->swifter) (0.5.0)\n",
      "Requirement already satisfied: pygments>=2.4.0 in c:\\users\\acer\\appdata\\local\\programs\\python\\python310\\lib\\site-packages (from ipython>=4.0.0->ipywidgets>=7.0.0->swifter) (2.13.0)\n",
      "Requirement already satisfied: pickleshare in c:\\users\\acer\\appdata\\local\\programs\\python\\python310\\lib\\site-packages (from ipython>=4.0.0->ipywidgets>=7.0.0->swifter) (0.7.5)\n",
      "Requirement already satisfied: prompt-toolkit<3.1.0,>3.0.1 in c:\\users\\acer\\appdata\\local\\programs\\python\\python310\\lib\\site-packages (from ipython>=4.0.0->ipywidgets>=7.0.0->swifter) (3.0.31)\n",
      "Requirement already satisfied: pyparsing!=3.0.5,>=2.0.2 in c:\\users\\acer\\appdata\\local\\programs\\python\\python310\\lib\\site-packages (from packaging>=20.0->dask[dataframe]>=2.10.0->swifter) (3.0.9)\n",
      "Requirement already satisfied: locket in c:\\users\\acer\\appdata\\local\\programs\\python\\python310\\lib\\site-packages (from partd>=0.3.10->dask[dataframe]>=2.10.0->swifter) (1.0.0)\n",
      "Requirement already satisfied: notebook>=4.4.1 in c:\\users\\acer\\appdata\\local\\programs\\python\\python310\\lib\\site-packages (from widgetsnbextension~=3.6.0->ipywidgets>=7.0.0->swifter) (6.4.12)\n",
      "Requirement already satisfied: entrypoints in c:\\users\\acer\\appdata\\local\\programs\\python\\python310\\lib\\site-packages (from jupyter-client>=6.1.12->ipykernel>=4.5.1->ipywidgets>=7.0.0->swifter) (0.4)\n",
      "Requirement already satisfied: jupyter-core>=4.9.2 in c:\\users\\acer\\appdata\\local\\programs\\python\\python310\\lib\\site-packages (from jupyter-client>=6.1.12->ipykernel>=4.5.1->ipywidgets>=7.0.0->swifter) (4.11.1)\n",
      "Requirement already satisfied: terminado>=0.8.3 in c:\\users\\acer\\appdata\\local\\programs\\python\\python310\\lib\\site-packages (from notebook>=4.4.1->widgetsnbextension~=3.6.0->ipywidgets>=7.0.0->swifter) (0.15.0)\n",
      "Requirement already satisfied: Send2Trash>=1.8.0 in c:\\users\\acer\\appdata\\local\\programs\\python\\python310\\lib\\site-packages (from notebook>=4.4.1->widgetsnbextension~=3.6.0->ipywidgets>=7.0.0->swifter) (1.8.0)\n",
      "Requirement already satisfied: nbformat in c:\\users\\acer\\appdata\\local\\programs\\python\\python310\\lib\\site-packages (from notebook>=4.4.1->widgetsnbextension~=3.6.0->ipywidgets>=7.0.0->swifter) (5.5.0)\n",
      "Requirement already satisfied: argon2-cffi in c:\\users\\acer\\appdata\\local\\programs\\python\\python310\\lib\\site-packages (from notebook>=4.4.1->widgetsnbextension~=3.6.0->ipywidgets>=7.0.0->swifter) (21.3.0)\n",
      "Requirement already satisfied: jinja2 in c:\\users\\acer\\appdata\\local\\programs\\python\\python310\\lib\\site-packages (from notebook>=4.4.1->widgetsnbextension~=3.6.0->ipywidgets>=7.0.0->swifter) (3.1.2)\n",
      "Requirement already satisfied: nbconvert>=5 in c:\\users\\acer\\appdata\\local\\programs\\python\\python310\\lib\\site-packages (from notebook>=4.4.1->widgetsnbextension~=3.6.0->ipywidgets>=7.0.0->swifter) (6.5.3)\n",
      "Requirement already satisfied: prometheus-client in c:\\users\\acer\\appdata\\local\\programs\\python\\python310\\lib\\site-packages (from notebook>=4.4.1->widgetsnbextension~=3.6.0->ipywidgets>=7.0.0->swifter) (0.14.1)\n",
      "Requirement already satisfied: wcwidth in c:\\users\\acer\\appdata\\local\\programs\\python\\python310\\lib\\site-packages (from prompt-toolkit<3.1.0,>3.0.1->ipython>=4.0.0->ipywidgets>=7.0.0->swifter) (0.2.5)\n",
      "Requirement already satisfied: executing in c:\\users\\acer\\appdata\\local\\programs\\python\\python310\\lib\\site-packages (from stack-data->ipython>=4.0.0->ipywidgets>=7.0.0->swifter) (1.0.0)\n",
      "Requirement already satisfied: asttokens in c:\\users\\acer\\appdata\\local\\programs\\python\\python310\\lib\\site-packages (from stack-data->ipython>=4.0.0->ipywidgets>=7.0.0->swifter) (2.0.8)\n",
      "Requirement already satisfied: pure-eval in c:\\users\\acer\\appdata\\local\\programs\\python\\python310\\lib\\site-packages (from stack-data->ipython>=4.0.0->ipywidgets>=7.0.0->swifter) (0.2.2)\n",
      "Requirement already satisfied: pywin32>=1.0 in c:\\users\\acer\\appdata\\local\\programs\\python\\python310\\lib\\site-packages (from jupyter-core>=4.9.2->jupyter-client>=6.1.12->ipykernel>=4.5.1->ipywidgets>=7.0.0->swifter) (304)\n",
      "Requirement already satisfied: defusedxml in c:\\users\\acer\\appdata\\local\\programs\\python\\python310\\lib\\site-packages (from nbconvert>=5->notebook>=4.4.1->widgetsnbextension~=3.6.0->ipywidgets>=7.0.0->swifter) (0.7.1)\n",
      "Requirement already satisfied: mistune<2,>=0.8.1 in c:\\users\\acer\\appdata\\local\\programs\\python\\python310\\lib\\site-packages (from nbconvert>=5->notebook>=4.4.1->widgetsnbextension~=3.6.0->ipywidgets>=7.0.0->swifter) (0.8.4)\n",
      "Requirement already satisfied: pandocfilters>=1.4.1 in c:\\users\\acer\\appdata\\local\\programs\\python\\python310\\lib\\site-packages (from nbconvert>=5->notebook>=4.4.1->widgetsnbextension~=3.6.0->ipywidgets>=7.0.0->swifter) (1.5.0)\n",
      "Requirement already satisfied: MarkupSafe>=2.0 in c:\\users\\acer\\appdata\\local\\programs\\python\\python310\\lib\\site-packages (from nbconvert>=5->notebook>=4.4.1->widgetsnbextension~=3.6.0->ipywidgets>=7.0.0->swifter) (2.1.1)\n",
      "Requirement already satisfied: nbclient>=0.5.0 in c:\\users\\acer\\appdata\\local\\programs\\python\\python310\\lib\\site-packages (from nbconvert>=5->notebook>=4.4.1->widgetsnbextension~=3.6.0->ipywidgets>=7.0.0->swifter) (0.5.13)\n",
      "Requirement already satisfied: lxml in c:\\users\\acer\\appdata\\local\\programs\\python\\python310\\lib\\site-packages (from nbconvert>=5->notebook>=4.4.1->widgetsnbextension~=3.6.0->ipywidgets>=7.0.0->swifter) (4.9.1)\n",
      "Requirement already satisfied: beautifulsoup4 in c:\\users\\acer\\appdata\\local\\programs\\python\\python310\\lib\\site-packages (from nbconvert>=5->notebook>=4.4.1->widgetsnbextension~=3.6.0->ipywidgets>=7.0.0->swifter) (4.11.1)\n",
      "Requirement already satisfied: tinycss2 in c:\\users\\acer\\appdata\\local\\programs\\python\\python310\\lib\\site-packages (from nbconvert>=5->notebook>=4.4.1->widgetsnbextension~=3.6.0->ipywidgets>=7.0.0->swifter) (1.1.1)\n",
      "Requirement already satisfied: jupyterlab-pygments in c:\\users\\acer\\appdata\\local\\programs\\python\\python310\\lib\\site-packages (from nbconvert>=5->notebook>=4.4.1->widgetsnbextension~=3.6.0->ipywidgets>=7.0.0->swifter) (0.2.2)\n",
      "Requirement already satisfied: jsonschema>=2.6 in c:\\users\\acer\\appdata\\local\\programs\\python\\python310\\lib\\site-packages (from nbformat->notebook>=4.4.1->widgetsnbextension~=3.6.0->ipywidgets>=7.0.0->swifter) (3.2.0)\n",
      "Requirement already satisfied: fastjsonschema in c:\\users\\acer\\appdata\\local\\programs\\python\\python310\\lib\\site-packages (from nbformat->notebook>=4.4.1->widgetsnbextension~=3.6.0->ipywidgets>=7.0.0->swifter) (2.16.2)\n",
      "Requirement already satisfied: pywinpty>=1.1.0 in c:\\users\\acer\\appdata\\local\\programs\\python\\python310\\lib\\site-packages (from terminado>=0.8.3->notebook>=4.4.1->widgetsnbextension~=3.6.0->ipywidgets>=7.0.0->swifter) (2.0.8)\n",
      "Requirement already satisfied: argon2-cffi-bindings in c:\\users\\acer\\appdata\\local\\programs\\python\\python310\\lib\\site-packages (from argon2-cffi->notebook>=4.4.1->widgetsnbextension~=3.6.0->ipywidgets>=7.0.0->swifter) (21.2.0)\n",
      "Requirement already satisfied: pyrsistent>=0.14.0 in c:\\users\\acer\\appdata\\local\\programs\\python\\python310\\lib\\site-packages (from jsonschema>=2.6->nbformat->notebook>=4.4.1->widgetsnbextension~=3.6.0->ipywidgets>=7.0.0->swifter) (0.18.1)\n",
      "Requirement already satisfied: attrs>=17.4.0 in c:\\users\\acer\\appdata\\local\\programs\\python\\python310\\lib\\site-packages (from jsonschema>=2.6->nbformat->notebook>=4.4.1->widgetsnbextension~=3.6.0->ipywidgets>=7.0.0->swifter) (21.4.0)\n",
      "Requirement already satisfied: setuptools in c:\\users\\acer\\appdata\\local\\programs\\python\\python310\\lib\\site-packages (from jsonschema>=2.6->nbformat->notebook>=4.4.1->widgetsnbextension~=3.6.0->ipywidgets>=7.0.0->swifter) (63.2.0)\n",
      "Requirement already satisfied: cffi>=1.0.1 in c:\\users\\acer\\appdata\\local\\programs\\python\\python310\\lib\\site-packages (from argon2-cffi-bindings->argon2-cffi->notebook>=4.4.1->widgetsnbextension~=3.6.0->ipywidgets>=7.0.0->swifter) (1.15.1)\n",
      "Requirement already satisfied: soupsieve>1.2 in c:\\users\\acer\\appdata\\local\\programs\\python\\python310\\lib\\site-packages (from beautifulsoup4->nbconvert>=5->notebook>=4.4.1->widgetsnbextension~=3.6.0->ipywidgets>=7.0.0->swifter) (2.3.2.post1)\n",
      "Requirement already satisfied: pycparser in c:\\users\\acer\\appdata\\local\\programs\\python\\python310\\lib\\site-packages (from cffi>=1.0.1->argon2-cffi-bindings->argon2-cffi->notebook>=4.4.1->widgetsnbextension~=3.6.0->ipywidgets>=7.0.0->swifter) (2.21)\n"
     ]
    }
   ],
   "source": [
    "!pip install swifter"
   ]
  },
  {
   "cell_type": "markdown",
   "metadata": {
    "id": "OzsscJzGTRpA"
   },
   "source": [
    "## Natural Language Toolkit (NLTK)\n",
    "Natural Language Toolkit (NLTK) adalah sebuah platform yang digunakan untuk membangun program analisis teks. Platform ini awalnya dirilis oleh Steven Bird dan Edward Loper dalam kaitannya dengan mata kuliah komputasi linguistik di Universitas Pennsylvania pada tahun 2001. Ada sebuah buku pegangan untuk platform tersebut dengan judul Natural Language Processing dengan Python."
   ]
  },
  {
   "cell_type": "markdown",
   "metadata": {
    "id": "9f306uG1TjBg"
   },
   "source": [
    "### Install NLTK"
   ]
  },
  {
   "cell_type": "code",
   "execution_count": 5,
   "metadata": {
    "id": "R8xZ0bbcTi0F"
   },
   "outputs": [
    {
     "name": "stdout",
     "output_type": "stream",
     "text": [
      "Requirement already satisfied: nltk in c:\\users\\acer\\appdata\\local\\programs\\python\\python310\\lib\\site-packages (3.7)\n",
      "Requirement already satisfied: joblib in c:\\users\\acer\\appdata\\local\\programs\\python\\python310\\lib\\site-packages (from nltk) (1.2.0)\n",
      "Requirement already satisfied: tqdm in c:\\users\\acer\\appdata\\local\\programs\\python\\python310\\lib\\site-packages (from nltk) (4.64.1)\n",
      "Requirement already satisfied: click in c:\\users\\acer\\appdata\\local\\programs\\python\\python310\\lib\\site-packages (from nltk) (8.1.3)\n",
      "Requirement already satisfied: regex>=2021.8.3 in c:\\users\\acer\\appdata\\local\\programs\\python\\python310\\lib\\site-packages (from nltk) (2022.3.2)\n",
      "Requirement already satisfied: colorama in c:\\users\\acer\\appdata\\local\\programs\\python\\python310\\lib\\site-packages (from click->nltk) (0.4.5)\n"
     ]
    },
    {
     "name": "stderr",
     "output_type": "stream",
     "text": [
      "\n",
      "[notice] A new release of pip available: 22.2.2 -> 22.3\n",
      "[notice] To update, run: python.exe -m pip install --upgrade pip\n"
     ]
    }
   ],
   "source": [
    "!pip install nltk"
   ]
  },
  {
   "cell_type": "markdown",
   "metadata": {
    "id": "XvF1Y-pfP08q"
   },
   "source": [
    "## Mengambil Data dari gDrive"
   ]
  },
  {
   "cell_type": "code",
   "execution_count": 6,
   "metadata": {
    "colab": {
     "base_uri": "https://localhost:8080/",
     "height": 614
    },
    "id": "eKM6-bFzQHJU",
    "outputId": "19d0ca5e-41c2-4b09-f2be-53fa2b333e6c"
   },
   "outputs": [
    {
     "data": {
      "text/html": [
       "<div>\n",
       "<style scoped>\n",
       "    .dataframe tbody tr th:only-of-type {\n",
       "        vertical-align: middle;\n",
       "    }\n",
       "\n",
       "    .dataframe tbody tr th {\n",
       "        vertical-align: top;\n",
       "    }\n",
       "\n",
       "    .dataframe thead th {\n",
       "        text-align: right;\n",
       "    }\n",
       "</style>\n",
       "<table border=\"1\" class=\"dataframe\">\n",
       "  <thead>\n",
       "    <tr style=\"text-align: right;\">\n",
       "      <th></th>\n",
       "      <th>tweet</th>\n",
       "      <th>label</th>\n",
       "    </tr>\n",
       "  </thead>\n",
       "  <tbody>\n",
       "    <tr>\n",
       "      <th>0</th>\n",
       "      <td>PENANDATANGANAN NOTA KESEPAHAMAN DAN PERJANJIA...</td>\n",
       "      <td>pro</td>\n",
       "    </tr>\n",
       "    <tr>\n",
       "      <th>1</th>\n",
       "      <td>DESA BINAAN  BERBASIS POTENSI LOKAL  “ PENTING...</td>\n",
       "      <td>pro</td>\n",
       "    </tr>\n",
       "    <tr>\n",
       "      <th>2</th>\n",
       "      <td>Download Logo Universitas Trunojoyo Madura Vec...</td>\n",
       "      <td>pro</td>\n",
       "    </tr>\n",
       "    <tr>\n",
       "      <th>3</th>\n",
       "      <td>[Unit Kegiatan Mahasiswa Universitas Trunojoyo...</td>\n",
       "      <td>pro</td>\n",
       "    </tr>\n",
       "    <tr>\n",
       "      <th>4</th>\n",
       "      <td>KONGRES IKATAN ALUMNI FAKULTAS HUKUM UNIVERSIT...</td>\n",
       "      <td>pro</td>\n",
       "    </tr>\n",
       "    <tr>\n",
       "      <th>5</th>\n",
       "      <td>[UKM PADUAN SUARA GOLDEN UNIVERSITAS TRUNOJOYO...</td>\n",
       "      <td>pro</td>\n",
       "    </tr>\n",
       "    <tr>\n",
       "      <th>6</th>\n",
       "      <td>BEDAH BUKU BIOGRAFI SYAICHONA MOH. CHOLIL GURU...</td>\n",
       "      <td>pro</td>\n",
       "    </tr>\n",
       "    <tr>\n",
       "      <th>7</th>\n",
       "      <td>@sbmptnfess Universitas trunojoyo madura</td>\n",
       "      <td>pro</td>\n",
       "    </tr>\n",
       "    <tr>\n",
       "      <th>8</th>\n",
       "      <td>Anggota kelompok : -Mohammad Afrizal (22011110...</td>\n",
       "      <td>pro</td>\n",
       "    </tr>\n",
       "    <tr>\n",
       "      <th>9</th>\n",
       "      <td>Anggota kelompok : -Mohammad Afrizal (22011110...</td>\n",
       "      <td>pro</td>\n",
       "    </tr>\n",
       "    <tr>\n",
       "      <th>10</th>\n",
       "      <td>@convomfs UTM. Universitas Trunojoyo Madura mu...</td>\n",
       "      <td>pro</td>\n",
       "    </tr>\n",
       "    <tr>\n",
       "      <th>11</th>\n",
       "      <td>[UKM PADUAN SUARA GOLDEN UNIVERSITAS TRUNOJOYO...</td>\n",
       "      <td>pro</td>\n",
       "    </tr>\n",
       "    <tr>\n",
       "      <th>12</th>\n",
       "      <td>Baru saja mengirim foto @ Universitas Trunojoy...</td>\n",
       "      <td>pro</td>\n",
       "    </tr>\n",
       "    <tr>\n",
       "      <th>13</th>\n",
       "      <td>universitas Trunojoyo madura. ukt paling tingg...</td>\n",
       "      <td>kontra</td>\n",
       "    </tr>\n",
       "    <tr>\n",
       "      <th>14</th>\n",
       "      <td>Apakah langkah Partai Nasdem terlalu cepat ?  ...</td>\n",
       "      <td>kontra</td>\n",
       "    </tr>\n",
       "    <tr>\n",
       "      <th>15</th>\n",
       "      <td>1. Wakil Ketua MK Aswanto memberikan ceramah d...</td>\n",
       "      <td>pro</td>\n",
       "    </tr>\n",
       "    <tr>\n",
       "      <th>16</th>\n",
       "      <td>[UKM PADUAN SUARA GOLDEN UNIVERSITAS TRUNOJOYO...</td>\n",
       "      <td>pro</td>\n",
       "    </tr>\n",
       "    <tr>\n",
       "      <th>17</th>\n",
       "      <td>[UKM PADUAN SUARA GOLDEN UNIVERSITAS TRUNOJOYO...</td>\n",
       "      <td>pro</td>\n",
       "    </tr>\n",
       "  </tbody>\n",
       "</table>\n",
       "</div>"
      ],
      "text/plain": [
       "                                                tweet   label\n",
       "0   PENANDATANGANAN NOTA KESEPAHAMAN DAN PERJANJIA...     pro\n",
       "1   DESA BINAAN  BERBASIS POTENSI LOKAL  “ PENTING...     pro\n",
       "2   Download Logo Universitas Trunojoyo Madura Vec...     pro\n",
       "3   [Unit Kegiatan Mahasiswa Universitas Trunojoyo...     pro\n",
       "4   KONGRES IKATAN ALUMNI FAKULTAS HUKUM UNIVERSIT...     pro\n",
       "5   [UKM PADUAN SUARA GOLDEN UNIVERSITAS TRUNOJOYO...     pro\n",
       "6   BEDAH BUKU BIOGRAFI SYAICHONA MOH. CHOLIL GURU...     pro\n",
       "7            @sbmptnfess Universitas trunojoyo madura     pro\n",
       "8   Anggota kelompok : -Mohammad Afrizal (22011110...     pro\n",
       "9   Anggota kelompok : -Mohammad Afrizal (22011110...     pro\n",
       "10  @convomfs UTM. Universitas Trunojoyo Madura mu...     pro\n",
       "11  [UKM PADUAN SUARA GOLDEN UNIVERSITAS TRUNOJOYO...     pro\n",
       "12  Baru saja mengirim foto @ Universitas Trunojoy...     pro\n",
       "13  universitas Trunojoyo madura. ukt paling tingg...  kontra\n",
       "14  Apakah langkah Partai Nasdem terlalu cepat ?  ...  kontra\n",
       "15  1. Wakil Ketua MK Aswanto memberikan ceramah d...     pro\n",
       "16  [UKM PADUAN SUARA GOLDEN UNIVERSITAS TRUNOJOYO...     pro\n",
       "17  [UKM PADUAN SUARA GOLDEN UNIVERSITAS TRUNOJOYO...     pro"
      ]
     },
     "execution_count": 6,
     "metadata": {},
     "output_type": "execute_result"
    }
   ],
   "source": [
    "data = pd.read_csv(\"utm.csv\")\n",
    "data"
   ]
  },
  {
   "cell_type": "markdown",
   "metadata": {
    "id": "FFxdKlHlS0j8"
   },
   "source": [
    "## Case Folding\n",
    "Tahap untuk merubah teks yang memiliki huruf kapital menjadi huruf kecil"
   ]
  },
  {
   "cell_type": "code",
   "execution_count": 7,
   "metadata": {
    "colab": {
     "base_uri": "https://localhost:8080/"
    },
    "id": "f5okQQ1ySz5i",
    "outputId": "a9ac9bf8-6019-4d36-ee2b-a9fcbd96d23e"
   },
   "outputs": [
    {
     "data": {
      "text/plain": [
       "0     penandatanganan nota kesepahaman dan perjanjia...\n",
       "1     desa binaan  berbasis potensi lokal  “ penting...\n",
       "2     download logo universitas trunojoyo madura vec...\n",
       "3     [unit kegiatan mahasiswa universitas trunojoyo...\n",
       "4     kongres ikatan alumni fakultas hukum universit...\n",
       "5     [ukm paduan suara golden universitas trunojoyo...\n",
       "6     bedah buku biografi syaichona moh. cholil guru...\n",
       "7              @sbmptnfess universitas trunojoyo madura\n",
       "8     anggota kelompok : -mohammad afrizal (22011110...\n",
       "9     anggota kelompok : -mohammad afrizal (22011110...\n",
       "10    @convomfs utm. universitas trunojoyo madura mu...\n",
       "11    [ukm paduan suara golden universitas trunojoyo...\n",
       "12    baru saja mengirim foto @ universitas trunojoy...\n",
       "13    universitas trunojoyo madura. ukt paling tingg...\n",
       "14    apakah langkah partai nasdem terlalu cepat ?  ...\n",
       "15    1. wakil ketua mk aswanto memberikan ceramah d...\n",
       "16    [ukm paduan suara golden universitas trunojoyo...\n",
       "17    [ukm paduan suara golden universitas trunojoyo...\n",
       "Name: tweet, dtype: object"
      ]
     },
     "execution_count": 7,
     "metadata": {},
     "output_type": "execute_result"
    }
   ],
   "source": [
    "data['tweet'] = data['tweet'].str.lower()\n",
    "data['tweet']"
   ]
  },
  {
   "cell_type": "markdown",
   "metadata": {
    "id": "F8UNEAO3TG7g"
   },
   "source": [
    "## Menghapus Karakter Spesial"
   ]
  },
  {
   "cell_type": "code",
   "execution_count": 8,
   "metadata": {
    "colab": {
     "base_uri": "https://localhost:8080/"
    },
    "id": "gKQL7Fg7THNB",
    "outputId": "95f6e37a-1975-451d-d369-a173ae3e6981"
   },
   "outputs": [
    {
     "data": {
      "text/plain": [
       "0     penandatanganan nota kesepahaman dan perjanjia...\n",
       "1     desa binaan berbasis potensi lokal ? pentingny...\n",
       "2     download logo universitas trunojoyo madura vector\n",
       "3     [unit kegiatan mahasiswa universitas trunojoyo...\n",
       "4     kongres ikatan alumni fakultas hukum universit...\n",
       "5     [ukm paduan suara golden universitas trunojoyo...\n",
       "6     bedah buku biografi syaichona moh. cholil guru...\n",
       "7                          universitas trunojoyo madura\n",
       "8     anggota kelompok : -mohammad afrizal (22011110...\n",
       "9     anggota kelompok : -mohammad afrizal (22011110...\n",
       "10    utm. universitas trunojoyo madura murceee. ukt...\n",
       "11    [ukm paduan suara golden universitas trunojoyo...\n",
       "12    baru saja mengirim foto @ universitas trunojoy...\n",
       "13    universitas trunojoyo madura. ukt paling tingg...\n",
       "14    apakah langkah partai nasdem terlalu cepat ? l...\n",
       "15    1. wakil ketua mk aswanto memberikan ceramah d...\n",
       "16    [ukm paduan suara golden universitas trunojoyo...\n",
       "17    [ukm paduan suara golden universitas trunojoyo...\n",
       "Name: tweet, dtype: object"
      ]
     },
     "execution_count": 8,
     "metadata": {},
     "output_type": "execute_result"
    }
   ],
   "source": [
    "import string \n",
    "import re #regex library\n",
    "# import word_tokenize & FreqDist from NLTK\n",
    "\n",
    "from nltk.tokenize import word_tokenize \n",
    "from nltk.probability import FreqDist\n",
    "\n",
    "# ------ Tokenizing ---------\n",
    "\n",
    "def remove_special(text):\n",
    "    # remove tab, new line, ans back slice\n",
    "    text = text.replace('\\\\t',\" \").replace('\\\\n',\" \").replace('\\\\u',\" \").replace('\\\\',\" \").replace('\\\\f',\" \").replace('\\\\r',\" \")\n",
    "    # remove non ASCII (emoticon, chinese word, .etc)\n",
    "    text = text.encode('ascii', 'replace').decode('ascii')\n",
    "    # remove mention, link, hashtag\n",
    "    text = ' '.join(re.sub(\"([@#][A-Za-z0-9]+)|(\\w+:\\/\\/\\S+)\",\" \", text).split())\n",
    "    # remove incomplete URL\n",
    "    return text.replace(\"http://\", \" \").replace(\"https://\", \" \")\n",
    "                \n",
    "data['tweet'] = data['tweet'].apply(remove_special)\n",
    "data['tweet']"
   ]
  },
  {
   "cell_type": "markdown",
   "metadata": {
    "id": "Oot7EP85UFiU"
   },
   "source": [
    "## Menghapus Angka"
   ]
  },
  {
   "cell_type": "code",
   "execution_count": 9,
   "metadata": {
    "colab": {
     "base_uri": "https://localhost:8080/"
    },
    "id": "RJZU0nTyUIM0",
    "outputId": "f5df7ef1-ca7a-4ae9-dd44-ed55ecca80c9"
   },
   "outputs": [
    {
     "data": {
      "text/plain": [
       "0     penandatanganan nota kesepahaman dan perjanjia...\n",
       "1     desa binaan berbasis potensi lokal ? pentingny...\n",
       "2     download logo universitas trunojoyo madura vector\n",
       "3     [unit kegiatan mahasiswa universitas trunojoyo...\n",
       "4     kongres ikatan alumni fakultas hukum universit...\n",
       "5     [ukm paduan suara golden universitas trunojoyo...\n",
       "6     bedah buku biografi syaichona moh. cholil guru...\n",
       "7                          universitas trunojoyo madura\n",
       "8     anggota kelompok : -mohammad afrizal () - novi...\n",
       "9     anggota kelompok : -mohammad afrizal () - novi...\n",
       "10    utm. universitas trunojoyo madura murceee. ukt...\n",
       "11    [ukm paduan suara golden universitas trunojoyo...\n",
       "12    baru saja mengirim foto @ universitas trunojoy...\n",
       "13    universitas trunojoyo madura. ukt paling tingg...\n",
       "14    apakah langkah partai nasdem terlalu cepat ? l...\n",
       "15    . wakil ketua mk aswanto memberikan ceramah da...\n",
       "16    [ukm paduan suara golden universitas trunojoyo...\n",
       "17    [ukm paduan suara golden universitas trunojoyo...\n",
       "Name: tweet, dtype: object"
      ]
     },
     "execution_count": 9,
     "metadata": {},
     "output_type": "execute_result"
    }
   ],
   "source": [
    "def remove_number(text):\n",
    "    return  re.sub(r\"\\d+\", \"\", text)\n",
    "\n",
    "data['tweet'] = data['tweet'].apply(remove_number)\n",
    "data['tweet']"
   ]
  },
  {
   "cell_type": "markdown",
   "metadata": {
    "id": "1Y8hphvHUL7L"
   },
   "source": [
    "## Menghapus Tanda Baca"
   ]
  },
  {
   "cell_type": "code",
   "execution_count": 10,
   "metadata": {
    "colab": {
     "base_uri": "https://localhost:8080/"
    },
    "id": "vQVgJ56XUMDI",
    "outputId": "ff72db97-45e3-4f41-d298-b3e98f8e3fd1"
   },
   "outputs": [
    {
     "data": {
      "text/plain": [
       "0     penandatanganan nota kesepahaman dan perjanjia...\n",
       "1     desa binaan berbasis potensi lokal  pentingnya...\n",
       "2     download logo universitas trunojoyo madura vector\n",
       "3     unit kegiatan mahasiswa universitas trunojoyo ...\n",
       "4     kongres ikatan alumni fakultas hukum universit...\n",
       "5     ukm paduan suara golden universitas trunojoyo ...\n",
       "6     bedah buku biografi syaichona moh cholil guru ...\n",
       "7                          universitas trunojoyo madura\n",
       "8     anggota kelompok  mohammad afrizal   novi tri ...\n",
       "9     anggota kelompok  mohammad afrizal   novi tri ...\n",
       "10    utm universitas trunojoyo madura murceee ukt t...\n",
       "11    ukm paduan suara golden universitas trunojoyo ...\n",
       "12    baru saja mengirim foto  universitas trunojoyo...\n",
       "13    universitas trunojoyo madura ukt paling tinggi...\n",
       "14    apakah langkah partai nasdem terlalu cepat  li...\n",
       "15     wakil ketua mk aswanto memberikan ceramah dal...\n",
       "16    ukm paduan suara golden universitas trunojoyo ...\n",
       "17    ukm paduan suara golden universitas trunojoyo ...\n",
       "Name: tweet, dtype: object"
      ]
     },
     "execution_count": 10,
     "metadata": {},
     "output_type": "execute_result"
    }
   ],
   "source": [
    "def remove_punctuation(text):\n",
    "    return text.translate(str.maketrans(\"\",\"\",string.punctuation))\n",
    "\n",
    "data['tweet'] = data['tweet'].apply(remove_punctuation)\n",
    "data['tweet']"
   ]
  },
  {
   "cell_type": "markdown",
   "metadata": {
    "id": "7xrVQJ5zURRo"
   },
   "source": [
    "## Menghapus Spasi"
   ]
  },
  {
   "cell_type": "code",
   "execution_count": 11,
   "metadata": {
    "colab": {
     "base_uri": "https://localhost:8080/"
    },
    "id": "rxMFgcGwURY7",
    "outputId": "68ef4e4b-915c-4bf2-a75e-3b6fde5c16a1"
   },
   "outputs": [
    {
     "data": {
      "text/plain": [
       "0     penandatanganan nota kesepahaman dan perjanjia...\n",
       "1     desa binaan berbasis potensi lokal pentingnya ...\n",
       "2     download logo universitas trunojoyo madura vector\n",
       "3     unit kegiatan mahasiswa universitas trunojoyo ...\n",
       "4     kongres ikatan alumni fakultas hukum universit...\n",
       "5     ukm paduan suara golden universitas trunojoyo ...\n",
       "6     bedah buku biografi syaichona moh cholil guru ...\n",
       "7                          universitas trunojoyo madura\n",
       "8     anggota kelompok mohammad afrizal novi tri ulf...\n",
       "9     anggota kelompok mohammad afrizal novi tri ulf...\n",
       "10    utm universitas trunojoyo madura murceee ukt t...\n",
       "11    ukm paduan suara golden universitas trunojoyo ...\n",
       "12    baru saja mengirim foto universitas trunojoyo ...\n",
       "13    universitas trunojoyo madura ukt paling tinggi...\n",
       "14    apakah langkah partai nasdem terlalu cepat liv...\n",
       "15    wakil ketua mk aswanto memberikan ceramah dala...\n",
       "16    ukm paduan suara golden universitas trunojoyo ...\n",
       "17    ukm paduan suara golden universitas trunojoyo ...\n",
       "Name: tweet, dtype: object"
      ]
     },
     "execution_count": 11,
     "metadata": {},
     "output_type": "execute_result"
    }
   ],
   "source": [
    "#remove whitespace leading & trailing\n",
    "def remove_whitespace_LT(text):\n",
    "    return text.strip()\n",
    "\n",
    "data['tweet'] = data['tweet'].apply(remove_whitespace_LT)\n",
    "\n",
    "\n",
    "#remove multiple whitespace into single whitespace\n",
    "def remove_whitespace_multiple(text):\n",
    "    return re.sub('\\s+',' ',text)\n",
    "\n",
    "data['tweet'] = data['tweet'].apply(remove_whitespace_multiple)\n",
    "data['tweet']"
   ]
  },
  {
   "cell_type": "markdown",
   "metadata": {
    "id": "kPp_nWBFUdIr"
   },
   "source": [
    "## Menghapus huruf Tunggal"
   ]
  },
  {
   "cell_type": "code",
   "execution_count": 12,
   "metadata": {
    "colab": {
     "base_uri": "https://localhost:8080/"
    },
    "id": "b5np3_ZKUdPC",
    "outputId": "1ddb3afc-07fe-4f34-cf50-a87f4e4cb1fa"
   },
   "outputs": [
    {
     "data": {
      "text/plain": [
       "0     penandatanganan nota kesepahaman dan perjanjia...\n",
       "1     desa binaan berbasis potensi lokal pentingnya ...\n",
       "2     download logo universitas trunojoyo madura vector\n",
       "3     unit kegiatan mahasiswa universitas trunojoyo ...\n",
       "4     kongres ikatan alumni fakultas hukum universit...\n",
       "5     ukm paduan suara golden universitas trunojoyo ...\n",
       "6     bedah buku biografi syaichona moh cholil guru ...\n",
       "7                          universitas trunojoyo madura\n",
       "8     anggota kelompok mohammad afrizal novi tri ulf...\n",
       "9     anggota kelompok mohammad afrizal novi tri ulf...\n",
       "10    utm universitas trunojoyo madura murceee ukt t...\n",
       "11    ukm paduan suara golden universitas trunojoyo ...\n",
       "12    baru saja mengirim foto universitas trunojoyo ...\n",
       "13    universitas trunojoyo madura ukt paling tinggi...\n",
       "14    apakah langkah partai nasdem terlalu cepat liv...\n",
       "15    wakil ketua mk aswanto memberikan ceramah dala...\n",
       "16    ukm paduan suara golden universitas trunojoyo ...\n",
       "17    ukm paduan suara golden universitas trunojoyo ...\n",
       "Name: tweet, dtype: object"
      ]
     },
     "execution_count": 12,
     "metadata": {},
     "output_type": "execute_result"
    }
   ],
   "source": [
    "# remove single char\n",
    "def remove_singl_char(text):\n",
    "    return re.sub(r\"\\b[a-zA-Z]\\b\", \" \", text)\n",
    "\n",
    "data['tweet'] = data['tweet'].apply(remove_singl_char)\n",
    "data['tweet']"
   ]
  },
  {
   "cell_type": "markdown",
   "metadata": {
    "id": "W3KscHHmUkwK"
   },
   "source": [
    "## Tokenizing\n",
    "Tokenizing adalah proses pemisahan teks menjadi potongan-potongan yang disebut sebagai token untuk kemudian di analisa. Kata, angka, simbol, tanda baca dan entitas penting lainnya dapat dianggap sebagai token"
   ]
  },
  {
   "cell_type": "code",
   "execution_count": 13,
   "metadata": {
    "id": "tx-yPsSUUr9w"
   },
   "outputs": [
    {
     "name": "stderr",
     "output_type": "stream",
     "text": [
      "[nltk_data] Downloading package punkt to\n",
      "[nltk_data]     C:\\Users\\Acer\\AppData\\Roaming\\nltk_data...\n",
      "[nltk_data]   Package punkt is already up-to-date!\n"
     ]
    },
    {
     "data": {
      "text/plain": [
       "True"
      ]
     },
     "execution_count": 13,
     "metadata": {},
     "output_type": "execute_result"
    }
   ],
   "source": [
    "import nltk\n",
    "nltk.download('punkt')"
   ]
  },
  {
   "cell_type": "code",
   "execution_count": 14,
   "metadata": {
    "colab": {
     "base_uri": "https://localhost:8080/"
    },
    "id": "386k4vhOUk3f",
    "outputId": "0674e626-794c-4516-e08f-f372fdf86a14"
   },
   "outputs": [
    {
     "data": {
      "text/plain": [
       "0     [penandatanganan, nota, kesepahaman, dan, perj...\n",
       "1     [desa, binaan, berbasis, potensi, lokal, penti...\n",
       "2     [download, logo, universitas, trunojoyo, madur...\n",
       "3     [unit, kegiatan, mahasiswa, universitas, truno...\n",
       "4     [kongres, ikatan, alumni, fakultas, hukum, uni...\n",
       "5     [ukm, paduan, suara, golden, universitas, trun...\n",
       "6     [bedah, buku, biografi, syaichona, moh, cholil...\n",
       "7                      [universitas, trunojoyo, madura]\n",
       "8     [anggota, kelompok, mohammad, afrizal, novi, t...\n",
       "9     [anggota, kelompok, mohammad, afrizal, novi, t...\n",
       "10    [utm, universitas, trunojoyo, madura, murceee,...\n",
       "11    [ukm, paduan, suara, golden, universitas, trun...\n",
       "12    [baru, saja, mengirim, foto, universitas, trun...\n",
       "13    [universitas, trunojoyo, madura, ukt, paling, ...\n",
       "14    [apakah, langkah, partai, nasdem, terlalu, cep...\n",
       "15    [wakil, ketua, mk, aswanto, memberikan, cerama...\n",
       "16    [ukm, paduan, suara, golden, universitas, trun...\n",
       "17    [ukm, paduan, suara, golden, universitas, trun...\n",
       "Name: tweet, dtype: object"
      ]
     },
     "execution_count": 14,
     "metadata": {},
     "output_type": "execute_result"
    }
   ],
   "source": [
    "# NLTK word Tokenize \n",
    "def word_tokenize_wrapper(text):\n",
    "    return word_tokenize(text)\n",
    "\n",
    "data['tweet'] = data['tweet'].apply(word_tokenize_wrapper)\n",
    "data['tweet']"
   ]
  },
  {
   "cell_type": "markdown",
   "metadata": {
    "id": "ecrJCVkSU2gT"
   },
   "source": [
    "## Filtering\n",
    "Proses untuk menghapus kata hubung atau kata yang tidak memiliki makna"
   ]
  },
  {
   "cell_type": "code",
   "execution_count": 15,
   "metadata": {
    "id": "oE9gFmW2U2r3"
   },
   "outputs": [
    {
     "name": "stderr",
     "output_type": "stream",
     "text": [
      "[nltk_data] Downloading package stopwords to\n",
      "[nltk_data]     C:\\Users\\Acer\\AppData\\Roaming\\nltk_data...\n",
      "[nltk_data]   Package stopwords is already up-to-date!\n"
     ]
    },
    {
     "data": {
      "text/plain": [
       "True"
      ]
     },
     "execution_count": 15,
     "metadata": {},
     "output_type": "execute_result"
    }
   ],
   "source": [
    "import nltk\n",
    "from nltk.corpus import stopwords\n",
    "nltk.download('stopwords')"
   ]
  },
  {
   "cell_type": "code",
   "execution_count": 16,
   "metadata": {
    "colab": {
     "base_uri": "https://localhost:8080/"
    },
    "id": "fc_HYrsQU4lL",
    "outputId": "8ede2143-a0f0-42d4-e650-0da9230ae63b"
   },
   "outputs": [
    {
     "data": {
      "text/plain": [
       "0     [penandatanganan, nota, kesepahaman, perjanjia...\n",
       "1     [desa, binaan, berbasis, potensi, lokal, kesad...\n",
       "2     [download, logo, universitas, trunojoyo, madur...\n",
       "3     [unit, kegiatan, mahasiswa, universitas, truno...\n",
       "4     [kongres, ikatan, alumni, fakultas, hukum, uni...\n",
       "5     [ukm, paduan, suara, golden, universitas, trun...\n",
       "6     [bedah, buku, biografi, syaichona, moh, cholil...\n",
       "7                      [universitas, trunojoyo, madura]\n",
       "8     [anggota, kelompok, mohammad, afrizal, novi, t...\n",
       "9     [anggota, kelompok, mohammad, afrizal, novi, t...\n",
       "10    [utm, universitas, trunojoyo, madura, murceee,...\n",
       "11    [ukm, paduan, suara, golden, universitas, trun...\n",
       "12     [mengirim, foto, universitas, trunojoyo, madura]\n",
       "13    [universitas, trunojoyo, madura, ukt, tingginy...\n",
       "14    [langkah, partai, nasdem, cepat, live, ketua, ...\n",
       "15    [wakil, ketua, mk, aswanto, ceramah, kegiatan,...\n",
       "16    [ukm, paduan, suara, golden, universitas, trun...\n",
       "17    [ukm, paduan, suara, golden, universitas, trun...\n",
       "Name: tweet, dtype: object"
      ]
     },
     "execution_count": 16,
     "metadata": {},
     "output_type": "execute_result"
    }
   ],
   "source": [
    "list_stopwords = stopwords.words('indonesian')\n",
    "\n",
    "#Menghapus Stopword dari list token\n",
    "def stopwords_removal(words):\n",
    "    return [word for word in words if word not in list_stopwords]\n",
    "\n",
    "data['tweet'] = data['tweet'].apply(stopwords_removal)\n",
    "\n",
    "data['tweet']"
   ]
  },
  {
   "cell_type": "markdown",
   "metadata": {
    "id": "dqNXXC5wU_ws"
   },
   "source": [
    "## Stemming\n",
    "Data training hasil dari filtering akan dilakukan pengecekan atau pencarian kata-kata yang sesuai dengan kamus umum. Apabila data training hasil filtering sesuai dengan kamus umum maka kata akan dikeluarkan sementara, karena sudah dianggap sebagai kata dasar. Apabila masih terdapat kata yang tidak termasuk dalam kata dasar maka tahap selanjutnya adalah menghapus inflection suffixes yang merupakan akhiran pertama. Kata yang memiliki akhiran partticles seperti “-pun”, “-kah”, “-tah”, “- lah” dan akhiran possessive pronoun seperti “-mu”, “-ku” dan “-nya” dihilangkan. Setelah dilakukan proses case folding, tokenezing, dan filtering, proses selanjutnya yaitu stemming. Stemming yang digunakan pada penelitian ini menggunakan algoritma Enhanced Confix Stipping Stemmer, terdiri dari beberapa langkah: Data training hasil dari filtering akan dilakukan pengecekan atau pencarian kata-kata yang sesuai dengan kamus umum. Apabila data training hasil filtering sesuai dengan kamus umum maka kata akan dikeluarkan sementara, karena sudah dianggap sebagai kata dasar. Apabila masih terdapat kata yang tidak termasuk dalam kata dasar maka tahap selanjutnya adalah menghapus inflection suffixes yang merupakan akhiran pertama. Kata yang memiliki akhiran partticles seperti “-pun”, “-kah”, “-tah”, “- lah” dan akhiran possessive pronoun seperti “-mu”, “-ku” dan “-nya” dihilangkan."
   ]
  },
  {
   "cell_type": "code",
   "execution_count": 17,
   "metadata": {
    "colab": {
     "base_uri": "https://localhost:8080/",
     "height": 1000,
     "referenced_widgets": [
      "32b28865438c4612a56f71a474612270",
      "44b71fba00fe4919a62578de73dc95e9",
      "54a8868057894d9b909351952bd62e2c",
      "1c7851cf0723415c9094619ee084ff24",
      "78e98cdae0d340fa8ffed145d64c715a",
      "4d9cb6a0e0884f5e9501ee0db25c6d53",
      "fe38d03db8bf43e6890ff71fbd4f2407",
      "c6396b61cd9d42ae9f6671fef0100fba",
      "df529af013234ac780a5cc2a5b0716fe",
      "3f4a186bb1f742b8b5078be29d7c17a6",
      "c2d9d629dfd84162a436899bccfd2946"
     ]
    },
    "id": "wBsEX6veU_9s",
    "outputId": "3df30b3f-89c0-4d33-88c8-e9ca3ca3b11f"
   },
   "outputs": [
    {
     "name": "stdout",
     "output_type": "stream",
     "text": [
      "165\n",
      "------------------------\n",
      "penandatanganan : penandatanganan\n",
      "nota : nota\n",
      "kesepahaman : paham\n",
      "perjanjian : janji\n",
      "kerja : kerja\n",
      "universitas : universitas\n",
      "trunojoyo : trunojoyo\n",
      "madura : madura\n",
      "ruang : ruang\n",
      "guru : guru\n",
      "tri : tri\n",
      "dharma : dharma\n",
      "perguruan : guru\n",
      "desa : desa\n",
      "binaan : bina\n",
      "berbasis : bas\n",
      "potensi : potensi\n",
      "lokal : lokal\n",
      "kesadaran : sadar\n",
      "hukum : hukum\n",
      "masyarakat : masyarakat\n",
      "bira : bira\n",
      "kabupaten : kabupaten\n",
      "sampang : sampang\n",
      "rangka : rangka\n",
      "dies : dies\n",
      "natalis : natalis\n",
      "fakultas : fakultas\n",
      "download : download\n",
      "logo : logo\n",
      "vector : vector\n",
      "unit : unit\n",
      "kegiatan : giat\n",
      "mahasiswa : mahasiswa\n",
      "hello : hello\n",
      "choristers : choristers\n",
      "were : were\n",
      "comeback : comeback\n",
      "so : so\n",
      "kali : kali\n",
      "ps : ps\n",
      "golden : golden\n",
      "mengadakan : ada\n",
      "choral : choral\n",
      "clinic : clinic\n",
      "dilaksanakan : laksana\n",
      "minggu : minggu\n",
      "tanggal : tanggal\n",
      "oktober : oktober\n",
      "selesai : selesai\n",
      "aula : aula\n",
      "rkb : rkb\n",
      "kongres : kongres\n",
      "ikatan : ikat\n",
      "alumni : alumni\n",
      "kolaborasi : kolaborasi\n",
      "mewujudkan : wujud\n",
      "utm : utm\n",
      "kompak : kompak\n",
      "berkah : berkah\n",
      "ukm : ukm\n",
      "paduan : padu\n",
      "suara : suara\n",
      "assalamualaikum : assalamualaikum\n",
      "wr : wr\n",
      "wb : wb\n",
      "selamat : selamat\n",
      "pagi : pagi\n",
      "joss : joss\n",
      "segenap : segenap\n",
      "keluarga : keluarga\n",
      "memperingati : ingat\n",
      "maulid : maulid\n",
      "nabi : nabi\n",
      "muhammad : muhammad\n",
      "saw : saw\n",
      "rabiul : rabiul\n",
      "hijriah : hijriah\n",
      "bedah : bedah\n",
      "buku : buku\n",
      "biografi : biografi\n",
      "syaichona : syaichona\n",
      "moh : moh\n",
      "cholil : cholil\n",
      "ulama : ulama\n",
      "pahlawan : pahlawan\n",
      "nasional : nasional\n",
      "anggota : anggota\n",
      "kelompok : kelompok\n",
      "mohammad : mohammad\n",
      "afrizal : afrizal\n",
      "novi : novi\n",
      "ulfatul : ulfatul\n",
      "fajriah : fajriah\n",
      "albani : albani\n",
      "imam : imam\n",
      "firdaus : firdaus\n",
      "nur : nur\n",
      "muia : muia\n",
      "isnai : isnai\n",
      "angraini : angraini\n",
      "hengky : hengky\n",
      "prasetya : prasetya\n",
      "kelas : kelas\n",
      "prodi : prodi\n",
      "ilmu : ilmu\n",
      "murceee : murceee\n",
      "ukt : ukt\n",
      "tertinggi : tinggi\n",
      "jt : jt\n",
      "gais : gais\n",
      "sore : sore\n",
      "sedunia : dunia\n",
      "mengirim : kirim\n",
      "foto : foto\n",
      "tingginya : tinggi\n",
      "jeleknya : jelek\n",
      "dapet : dapet\n",
      "understimate : understimate\n",
      "temen : temen\n",
      "sekelas : kelas\n",
      "pas : pas\n",
      "sma : sma\n",
      "aja : aja\n",
      "sih : sih\n",
      "langkah : langkah\n",
      "partai : partai\n",
      "nasdem : nasdem\n",
      "cepat : cepat\n",
      "live : live\n",
      "ketua : ketua\n",
      "fraksi : fraksi\n",
      "dki : dki\n",
      "jakarta : jakarta\n",
      "wibi : wibi\n",
      "andrino : andrino\n",
      "pengamat : amat\n",
      "politik : politik\n",
      "surochim : surochim\n",
      "abdussalam : abdussalam\n",
      "wakil : wakil\n",
      "mk : mk\n",
      "aswanto : aswanto\n",
      "ceramah : ceramah\n",
      "ngaji : ngaji\n",
      "konstitusi : konstitusi\n",
      "tema : tema\n",
      "tanggung : tanggung\n",
      "negara : negara\n",
      "adil : adil\n",
      "makmur : makmur\n",
      "diselenggarakan : selenggara\n",
      "jumat : jumat\n",
      "siang : siang\n",
      "menempuh : tempuh\n",
      "ujian : uji\n",
      "semester : semester\n",
      "gasal : gasal\n",
      "ta : ta\n",
      "berduka : duka\n",
      "cita : cita\n",
      "insiden : insiden\n",
      "stadion : stadion\n",
      "kanjuruhan : kanjuruhan\n",
      "malang : malang\n",
      "{'penandatanganan': 'penandatanganan', 'nota': 'nota', 'kesepahaman': 'paham', 'perjanjian': 'janji', 'kerja': 'kerja', 'universitas': 'universitas', 'trunojoyo': 'trunojoyo', 'madura': 'madura', 'ruang': 'ruang', 'guru': 'guru', 'tri': 'tri', 'dharma': 'dharma', 'perguruan': 'guru', 'desa': 'desa', 'binaan': 'bina', 'berbasis': 'bas', 'potensi': 'potensi', 'lokal': 'lokal', 'kesadaran': 'sadar', 'hukum': 'hukum', 'masyarakat': 'masyarakat', 'bira': 'bira', 'kabupaten': 'kabupaten', 'sampang': 'sampang', 'rangka': 'rangka', 'dies': 'dies', 'natalis': 'natalis', 'fakultas': 'fakultas', 'download': 'download', 'logo': 'logo', 'vector': 'vector', 'unit': 'unit', 'kegiatan': 'giat', 'mahasiswa': 'mahasiswa', 'hello': 'hello', 'choristers': 'choristers', 'were': 'were', 'comeback': 'comeback', 'so': 'so', 'kali': 'kali', 'ps': 'ps', 'golden': 'golden', 'mengadakan': 'ada', 'choral': 'choral', 'clinic': 'clinic', 'dilaksanakan': 'laksana', 'minggu': 'minggu', 'tanggal': 'tanggal', 'oktober': 'oktober', 'selesai': 'selesai', 'aula': 'aula', 'rkb': 'rkb', 'kongres': 'kongres', 'ikatan': 'ikat', 'alumni': 'alumni', 'kolaborasi': 'kolaborasi', 'mewujudkan': 'wujud', 'utm': 'utm', 'kompak': 'kompak', 'berkah': 'berkah', 'ukm': 'ukm', 'paduan': 'padu', 'suara': 'suara', 'assalamualaikum': 'assalamualaikum', 'wr': 'wr', 'wb': 'wb', 'selamat': 'selamat', 'pagi': 'pagi', 'joss': 'joss', 'segenap': 'segenap', 'keluarga': 'keluarga', 'memperingati': 'ingat', 'maulid': 'maulid', 'nabi': 'nabi', 'muhammad': 'muhammad', 'saw': 'saw', 'rabiul': 'rabiul', 'hijriah': 'hijriah', 'bedah': 'bedah', 'buku': 'buku', 'biografi': 'biografi', 'syaichona': 'syaichona', 'moh': 'moh', 'cholil': 'cholil', 'ulama': 'ulama', 'pahlawan': 'pahlawan', 'nasional': 'nasional', 'anggota': 'anggota', 'kelompok': 'kelompok', 'mohammad': 'mohammad', 'afrizal': 'afrizal', 'novi': 'novi', 'ulfatul': 'ulfatul', 'fajriah': 'fajriah', 'albani': 'albani', 'imam': 'imam', 'firdaus': 'firdaus', 'nur': 'nur', 'muia': 'muia', 'isnai': 'isnai', 'angraini': 'angraini', 'hengky': 'hengky', 'prasetya': 'prasetya', 'kelas': 'kelas', 'prodi': 'prodi', 'ilmu': 'ilmu', 'murceee': 'murceee', 'ukt': 'ukt', 'tertinggi': 'tinggi', 'jt': 'jt', 'gais': 'gais', 'sore': 'sore', 'sedunia': 'dunia', 'mengirim': 'kirim', 'foto': 'foto', 'tingginya': 'tinggi', 'jeleknya': 'jelek', 'dapet': 'dapet', 'understimate': 'understimate', 'temen': 'temen', 'sekelas': 'kelas', 'pas': 'pas', 'sma': 'sma', 'aja': 'aja', 'sih': 'sih', 'langkah': 'langkah', 'partai': 'partai', 'nasdem': 'nasdem', 'cepat': 'cepat', 'live': 'live', 'ketua': 'ketua', 'fraksi': 'fraksi', 'dki': 'dki', 'jakarta': 'jakarta', 'wibi': 'wibi', 'andrino': 'andrino', 'pengamat': 'amat', 'politik': 'politik', 'surochim': 'surochim', 'abdussalam': 'abdussalam', 'wakil': 'wakil', 'mk': 'mk', 'aswanto': 'aswanto', 'ceramah': 'ceramah', 'ngaji': 'ngaji', 'konstitusi': 'konstitusi', 'tema': 'tema', 'tanggung': 'tanggung', 'negara': 'negara', 'adil': 'adil', 'makmur': 'makmur', 'diselenggarakan': 'selenggara', 'jumat': 'jumat', 'siang': 'siang', 'menempuh': 'tempuh', 'ujian': 'uji', 'semester': 'semester', 'gasal': 'gasal', 'ta': 'ta', 'berduka': 'duka', 'cita': 'cita', 'insiden': 'insiden', 'stadion': 'stadion', 'kanjuruhan': 'kanjuruhan', 'malang': 'malang'}\n",
      "------------------------\n"
     ]
    },
    {
     "data": {
      "application/vnd.jupyter.widget-view+json": {
       "model_id": "c06786a63a8b4a5bb64b13efdd11bf68",
       "version_major": 2,
       "version_minor": 0
      },
      "text/plain": [
       "Pandas Apply:   0%|          | 0/18 [00:00<?, ?it/s]"
      ]
     },
     "metadata": {},
     "output_type": "display_data"
    },
    {
     "data": {
      "text/plain": [
       "0     [penandatanganan, nota, paham, janji, kerja, u...\n",
       "1     [desa, bina, bas, potensi, lokal, sadar, hukum...\n",
       "2     [download, logo, universitas, trunojoyo, madur...\n",
       "3     [unit, giat, mahasiswa, universitas, trunojoyo...\n",
       "4     [kongres, ikat, alumni, fakultas, hukum, unive...\n",
       "5     [ukm, padu, suara, golden, universitas, trunoj...\n",
       "6     [bedah, buku, biografi, syaichona, moh, cholil...\n",
       "7                      [universitas, trunojoyo, madura]\n",
       "8     [anggota, kelompok, mohammad, afrizal, novi, t...\n",
       "9     [anggota, kelompok, mohammad, afrizal, novi, t...\n",
       "10    [utm, universitas, trunojoyo, madura, murceee,...\n",
       "11    [ukm, padu, suara, golden, universitas, trunoj...\n",
       "12        [kirim, foto, universitas, trunojoyo, madura]\n",
       "13    [universitas, trunojoyo, madura, ukt, tinggi, ...\n",
       "14    [langkah, partai, nasdem, cepat, live, ketua, ...\n",
       "15    [wakil, ketua, mk, aswanto, ceramah, giat, nga...\n",
       "16    [ukm, padu, suara, golden, universitas, trunoj...\n",
       "17    [ukm, padu, suara, golden, universitas, trunoj...\n",
       "Name: tweet, dtype: object"
      ]
     },
     "execution_count": 17,
     "metadata": {},
     "output_type": "execute_result"
    }
   ],
   "source": [
    "from Sastrawi.Stemmer.StemmerFactory import StemmerFactory\n",
    "import swifter\n",
    "\n",
    "# create stemmer\n",
    "factory = StemmerFactory()\n",
    "stemmer = factory.create_stemmer()\n",
    "\n",
    "# stemmed\n",
    "def stemmed_wrapper(term):\n",
    "    return stemmer.stem(term)\n",
    "\n",
    "term_dict = {}\n",
    "\n",
    "for document in data['tweet']:\n",
    "    for term in document:\n",
    "        if term not in term_dict:\n",
    "            term_dict[term] = ' '\n",
    "            \n",
    "print(len(term_dict))\n",
    "print(\"------------------------\")\n",
    "\n",
    "for term in term_dict:\n",
    "    term_dict[term] = stemmed_wrapper(term)\n",
    "    print(term,\":\" ,term_dict[term])\n",
    "    \n",
    "print(term_dict)\n",
    "print(\"------------------------\")\n",
    "\n",
    "# apply stemmed term to dataframe\n",
    "def get_stemmed_term(document):\n",
    "    return [term_dict[term] for term in document]\n",
    "\n",
    "data['tweet'] = data['tweet'].swifter.apply(get_stemmed_term)\n",
    "data['tweet']"
   ]
  },
  {
   "cell_type": "markdown",
   "metadata": {
    "id": "Vbv67DzbVX43"
   },
   "source": [
    "## Menyimpan ke File CSV"
   ]
  },
  {
   "cell_type": "code",
   "execution_count": 18,
   "metadata": {
    "id": "SIWf3zXiVfNe"
   },
   "outputs": [],
   "source": [
    "data.to_csv('preprocessing.csv')"
   ]
  },
  {
   "cell_type": "code",
   "execution_count": null,
   "metadata": {},
   "outputs": [],
   "source": []
  }
 ],
 "metadata": {
  "colab": {
   "collapsed_sections": [],
   "provenance": []
  },
  "kernelspec": {
   "display_name": "Python 3 (ipykernel)",
   "language": "python",
   "name": "python3"
  },
  "language_info": {
   "codemirror_mode": {
    "name": "ipython",
    "version": 3
   },
   "file_extension": ".py",
   "mimetype": "text/x-python",
   "name": "python",
   "nbconvert_exporter": "python",
   "pygments_lexer": "ipython3",
   "version": "3.10.6"
  },
  "widgets": {
   "application/vnd.jupyter.widget-state+json": {
    "1c7851cf0723415c9094619ee084ff24": {
     "model_module": "@jupyter-widgets/controls",
     "model_module_version": "1.5.0",
     "model_name": "HTMLModel",
     "state": {
      "_dom_classes": [],
      "_model_module": "@jupyter-widgets/controls",
      "_model_module_version": "1.5.0",
      "_model_name": "HTMLModel",
      "_view_count": null,
      "_view_module": "@jupyter-widgets/controls",
      "_view_module_version": "1.5.0",
      "_view_name": "HTMLView",
      "description": "",
      "description_tooltip": null,
      "layout": "IPY_MODEL_3f4a186bb1f742b8b5078be29d7c17a6",
      "placeholder": "​",
      "style": "IPY_MODEL_c2d9d629dfd84162a436899bccfd2946",
      "value": " 18/18 [00:00&lt;00:00, 383.28it/s]"
     }
    },
    "32b28865438c4612a56f71a474612270": {
     "model_module": "@jupyter-widgets/controls",
     "model_module_version": "1.5.0",
     "model_name": "HBoxModel",
     "state": {
      "_dom_classes": [],
      "_model_module": "@jupyter-widgets/controls",
      "_model_module_version": "1.5.0",
      "_model_name": "HBoxModel",
      "_view_count": null,
      "_view_module": "@jupyter-widgets/controls",
      "_view_module_version": "1.5.0",
      "_view_name": "HBoxView",
      "box_style": "",
      "children": [
       "IPY_MODEL_44b71fba00fe4919a62578de73dc95e9",
       "IPY_MODEL_54a8868057894d9b909351952bd62e2c",
       "IPY_MODEL_1c7851cf0723415c9094619ee084ff24"
      ],
      "layout": "IPY_MODEL_78e98cdae0d340fa8ffed145d64c715a"
     }
    },
    "3f4a186bb1f742b8b5078be29d7c17a6": {
     "model_module": "@jupyter-widgets/base",
     "model_module_version": "1.2.0",
     "model_name": "LayoutModel",
     "state": {
      "_model_module": "@jupyter-widgets/base",
      "_model_module_version": "1.2.0",
      "_model_name": "LayoutModel",
      "_view_count": null,
      "_view_module": "@jupyter-widgets/base",
      "_view_module_version": "1.2.0",
      "_view_name": "LayoutView",
      "align_content": null,
      "align_items": null,
      "align_self": null,
      "border": null,
      "bottom": null,
      "display": null,
      "flex": null,
      "flex_flow": null,
      "grid_area": null,
      "grid_auto_columns": null,
      "grid_auto_flow": null,
      "grid_auto_rows": null,
      "grid_column": null,
      "grid_gap": null,
      "grid_row": null,
      "grid_template_areas": null,
      "grid_template_columns": null,
      "grid_template_rows": null,
      "height": null,
      "justify_content": null,
      "justify_items": null,
      "left": null,
      "margin": null,
      "max_height": null,
      "max_width": null,
      "min_height": null,
      "min_width": null,
      "object_fit": null,
      "object_position": null,
      "order": null,
      "overflow": null,
      "overflow_x": null,
      "overflow_y": null,
      "padding": null,
      "right": null,
      "top": null,
      "visibility": null,
      "width": null
     }
    },
    "44b71fba00fe4919a62578de73dc95e9": {
     "model_module": "@jupyter-widgets/controls",
     "model_module_version": "1.5.0",
     "model_name": "HTMLModel",
     "state": {
      "_dom_classes": [],
      "_model_module": "@jupyter-widgets/controls",
      "_model_module_version": "1.5.0",
      "_model_name": "HTMLModel",
      "_view_count": null,
      "_view_module": "@jupyter-widgets/controls",
      "_view_module_version": "1.5.0",
      "_view_name": "HTMLView",
      "description": "",
      "description_tooltip": null,
      "layout": "IPY_MODEL_4d9cb6a0e0884f5e9501ee0db25c6d53",
      "placeholder": "​",
      "style": "IPY_MODEL_fe38d03db8bf43e6890ff71fbd4f2407",
      "value": "Pandas Apply: 100%"
     }
    },
    "4d9cb6a0e0884f5e9501ee0db25c6d53": {
     "model_module": "@jupyter-widgets/base",
     "model_module_version": "1.2.0",
     "model_name": "LayoutModel",
     "state": {
      "_model_module": "@jupyter-widgets/base",
      "_model_module_version": "1.2.0",
      "_model_name": "LayoutModel",
      "_view_count": null,
      "_view_module": "@jupyter-widgets/base",
      "_view_module_version": "1.2.0",
      "_view_name": "LayoutView",
      "align_content": null,
      "align_items": null,
      "align_self": null,
      "border": null,
      "bottom": null,
      "display": null,
      "flex": null,
      "flex_flow": null,
      "grid_area": null,
      "grid_auto_columns": null,
      "grid_auto_flow": null,
      "grid_auto_rows": null,
      "grid_column": null,
      "grid_gap": null,
      "grid_row": null,
      "grid_template_areas": null,
      "grid_template_columns": null,
      "grid_template_rows": null,
      "height": null,
      "justify_content": null,
      "justify_items": null,
      "left": null,
      "margin": null,
      "max_height": null,
      "max_width": null,
      "min_height": null,
      "min_width": null,
      "object_fit": null,
      "object_position": null,
      "order": null,
      "overflow": null,
      "overflow_x": null,
      "overflow_y": null,
      "padding": null,
      "right": null,
      "top": null,
      "visibility": null,
      "width": null
     }
    },
    "54a8868057894d9b909351952bd62e2c": {
     "model_module": "@jupyter-widgets/controls",
     "model_module_version": "1.5.0",
     "model_name": "FloatProgressModel",
     "state": {
      "_dom_classes": [],
      "_model_module": "@jupyter-widgets/controls",
      "_model_module_version": "1.5.0",
      "_model_name": "FloatProgressModel",
      "_view_count": null,
      "_view_module": "@jupyter-widgets/controls",
      "_view_module_version": "1.5.0",
      "_view_name": "ProgressView",
      "bar_style": "success",
      "description": "",
      "description_tooltip": null,
      "layout": "IPY_MODEL_c6396b61cd9d42ae9f6671fef0100fba",
      "max": 18,
      "min": 0,
      "orientation": "horizontal",
      "style": "IPY_MODEL_df529af013234ac780a5cc2a5b0716fe",
      "value": 18
     }
    },
    "78e98cdae0d340fa8ffed145d64c715a": {
     "model_module": "@jupyter-widgets/base",
     "model_module_version": "1.2.0",
     "model_name": "LayoutModel",
     "state": {
      "_model_module": "@jupyter-widgets/base",
      "_model_module_version": "1.2.0",
      "_model_name": "LayoutModel",
      "_view_count": null,
      "_view_module": "@jupyter-widgets/base",
      "_view_module_version": "1.2.0",
      "_view_name": "LayoutView",
      "align_content": null,
      "align_items": null,
      "align_self": null,
      "border": null,
      "bottom": null,
      "display": null,
      "flex": null,
      "flex_flow": null,
      "grid_area": null,
      "grid_auto_columns": null,
      "grid_auto_flow": null,
      "grid_auto_rows": null,
      "grid_column": null,
      "grid_gap": null,
      "grid_row": null,
      "grid_template_areas": null,
      "grid_template_columns": null,
      "grid_template_rows": null,
      "height": null,
      "justify_content": null,
      "justify_items": null,
      "left": null,
      "margin": null,
      "max_height": null,
      "max_width": null,
      "min_height": null,
      "min_width": null,
      "object_fit": null,
      "object_position": null,
      "order": null,
      "overflow": null,
      "overflow_x": null,
      "overflow_y": null,
      "padding": null,
      "right": null,
      "top": null,
      "visibility": null,
      "width": null
     }
    },
    "c2d9d629dfd84162a436899bccfd2946": {
     "model_module": "@jupyter-widgets/controls",
     "model_module_version": "1.5.0",
     "model_name": "DescriptionStyleModel",
     "state": {
      "_model_module": "@jupyter-widgets/controls",
      "_model_module_version": "1.5.0",
      "_model_name": "DescriptionStyleModel",
      "_view_count": null,
      "_view_module": "@jupyter-widgets/base",
      "_view_module_version": "1.2.0",
      "_view_name": "StyleView",
      "description_width": ""
     }
    },
    "c6396b61cd9d42ae9f6671fef0100fba": {
     "model_module": "@jupyter-widgets/base",
     "model_module_version": "1.2.0",
     "model_name": "LayoutModel",
     "state": {
      "_model_module": "@jupyter-widgets/base",
      "_model_module_version": "1.2.0",
      "_model_name": "LayoutModel",
      "_view_count": null,
      "_view_module": "@jupyter-widgets/base",
      "_view_module_version": "1.2.0",
      "_view_name": "LayoutView",
      "align_content": null,
      "align_items": null,
      "align_self": null,
      "border": null,
      "bottom": null,
      "display": null,
      "flex": null,
      "flex_flow": null,
      "grid_area": null,
      "grid_auto_columns": null,
      "grid_auto_flow": null,
      "grid_auto_rows": null,
      "grid_column": null,
      "grid_gap": null,
      "grid_row": null,
      "grid_template_areas": null,
      "grid_template_columns": null,
      "grid_template_rows": null,
      "height": null,
      "justify_content": null,
      "justify_items": null,
      "left": null,
      "margin": null,
      "max_height": null,
      "max_width": null,
      "min_height": null,
      "min_width": null,
      "object_fit": null,
      "object_position": null,
      "order": null,
      "overflow": null,
      "overflow_x": null,
      "overflow_y": null,
      "padding": null,
      "right": null,
      "top": null,
      "visibility": null,
      "width": null
     }
    },
    "df529af013234ac780a5cc2a5b0716fe": {
     "model_module": "@jupyter-widgets/controls",
     "model_module_version": "1.5.0",
     "model_name": "ProgressStyleModel",
     "state": {
      "_model_module": "@jupyter-widgets/controls",
      "_model_module_version": "1.5.0",
      "_model_name": "ProgressStyleModel",
      "_view_count": null,
      "_view_module": "@jupyter-widgets/base",
      "_view_module_version": "1.2.0",
      "_view_name": "StyleView",
      "bar_color": null,
      "description_width": ""
     }
    },
    "fe38d03db8bf43e6890ff71fbd4f2407": {
     "model_module": "@jupyter-widgets/controls",
     "model_module_version": "1.5.0",
     "model_name": "DescriptionStyleModel",
     "state": {
      "_model_module": "@jupyter-widgets/controls",
      "_model_module_version": "1.5.0",
      "_model_name": "DescriptionStyleModel",
      "_view_count": null,
      "_view_module": "@jupyter-widgets/base",
      "_view_module_version": "1.2.0",
      "_view_name": "StyleView",
      "description_width": ""
     }
    }
   }
  }
 },
 "nbformat": 4,
 "nbformat_minor": 1
}
