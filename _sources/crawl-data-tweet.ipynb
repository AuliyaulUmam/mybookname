{
 "cells": [
  {
   "cell_type": "markdown",
   "metadata": {
    "id": "WX1CtgXAC7gM"
   },
   "source": [
    "# Crawling Data\n",
    "Data crawling atau perayapan data adalah proses pengambilan data yang tersedia secara online untuk umum. Proses ini kemudian mengimpor informasi atau data yang telah ditemukan ke dalam file lokal di komputer Anda."
   ]
  },
  {
   "cell_type": "markdown",
   "metadata": {
    "id": "o35ArxjzC7mS"
   },
   "source": [
    "## Twint\n",
    "Twint adalah sebuah tools yang digunakan untuk melakukan scrapping dari aplikasi twitter yang disetting secara khusus menggunakan bahasa pemrograman Python. Twint dapat kita gunakan dan jalankan tanpa harus menggunakan API dari Twitter itu sendiri, dengan kapasitas scrapping data maksimalnya adalah 3200 tweet.\n",
    "\n",
    "Bukan hanya digunakan pada tweet, twint juga bisa kita gunakan untuk melakukan scrapping pada user, followers, retweet dan sebagainya. Twint memanfaatkan operator pencarian twitter untuk memungkinkan proses penghapusan tweet dari user tertentu, memilih dan memilah informasi-informasi yang sensitif, termasuk email dan nomor telepon di dalamnya."
   ]
  },
  {
   "cell_type": "markdown",
   "metadata": {
    "id": "oPbiyHpsDNiC"
   },
   "source": [
    "### Instal Twint"
   ]
  },
  {
   "cell_type": "code",
   "execution_count": null,
   "metadata": {
    "id": "9DvIWImzGxJ0"
   },
   "outputs": [],
   "source": [
    "!git clone --depth=1 https://github.com/twintproject/twint.git\n",
    "%cd twint\n",
    "!pip3 install . -r requirements.txt"
   ]
  },
  {
   "cell_type": "markdown",
   "metadata": {
    "id": "PrCPT5FWEvXY"
   },
   "source": [
    "## Nest Asyncio\n",
    "Dengan desain asyncio tidak memungkinkan loop acaranya untuk disarangkan. Ini menyajikan masalah praktis: Ketika berada di lingkungan di mana loop acara berada sudah berjalan tidak mungkin menjalankan tugas dan menunggu untuk hasilnya. Mencoba melakukannya akan memberikan kesalahan \"*RuntimeError: This event loop is already running*\"\n",
    "\n",
    "Masalah muncul di berbagai lingkungan, seperti server web, Aplikasi GUI dan di notebook Jupyter. \n",
    "\n",
    "Modul ini menambal asyncio untuk memungkinkan penggunaan \"*asyncio.run*\" dan \"*loop.run_until_complete*\""
   ]
  },
  {
   "cell_type": "markdown",
   "metadata": {
    "id": "bUYM6sdqF_dy"
   },
   "source": [
    "### Instal Nest Asyncio"
   ]
  },
  {
   "cell_type": "code",
   "execution_count": null,
   "metadata": {
    "id": "HjcFu-CGGCnw"
   },
   "outputs": [],
   "source": [
    "!pip install nest_asyncio"
   ]
  },
  {
   "cell_type": "code",
   "execution_count": null,
   "metadata": {
    "id": "rcyPJgWjJywZ"
   },
   "outputs": [],
   "source": [
    "!pip install aiohttp==3.7.0"
   ]
  },
  {
   "cell_type": "markdown",
   "metadata": {
    "id": "AV9SEtuTGgzi"
   },
   "source": [
    "## Crawl Data Tweet"
   ]
  },
  {
   "cell_type": "code",
   "execution_count": null,
   "metadata": {
    "colab": {
     "base_uri": "https://localhost:8080/"
    },
    "id": "V_7xuChHGZt-",
    "outputId": "8c1f457b-6022-437a-c0b9-d2e2d8dc912f"
   },
   "outputs": [
    {
     "name": "stdout",
     "output_type": "stream",
     "text": [
      "1580487193067278337 2022-10-13 09:14:45 +0000 <utmOfficial> PENANDATANGANAN NOTA KESEPAHAMAN DAN PERJANJIAN KERJA SAMA  ANTARA UNIVERSITAS TRUNOJOYO MADURA DAN RUANG GURU Tentang Tri Dharma Perguruan Tinggi @ Universitas Trunojoyo  https://t.co/k4g8o1q5W3\n",
      "1580108848178003968 2022-10-12 08:11:21 +0000 <utmOfficial> DESA BINAAN  BERBASIS POTENSI LOKAL  “ PENTINGNYA KESADARAN HUKUM BAGI MASYARAKAT DESA BIRA TENGAH KABUPATEN SAMPANG Dalam Rangka Dies Natalis Yang Ke 41 Fakultas Hukum @ Universitas Trunojoyo  https://t.co/1UgxzJie0G\n",
      "1579475631553015810 2022-10-10 14:15:10 +0000 <pelajarinfoid> Download Logo Universitas Trunojoyo Madura Vector  https://t.co/ZP7ZLTlxjX\n",
      "1579315546440761344 2022-10-10 03:39:03 +0000 <psgolden_utm> [Unit Kegiatan Mahasiswa Universitas Trunojoyo Madura]  Hello Choristers✨ We’re Comeback! So, untuk kali ini PS Golden mengadakan kegiatan Choral Clinic yang akan dilaksanakan pada :  Hari : Minggu Tanggal : 9 Oktober 2022 Pukul : 09.00 - Selesai Tempat : Aula RKB A  https://t.co/1cQVwdQIui\n",
      "1579282832618565634 2022-10-10 01:29:03 +0000 <utmOfficial> KONGRES IKATAN ALUMNI FAKULTAS HUKUM UNIVERSITAS TRUNOJOYO MADURA “ KOLABORASI ALUMNI UNTUK MEWUJUDKAN FAKULTAS HUKUM UTM YANG KOMPAK DAN BERKAH” @ Universitas Trunojoyo  https://t.co/jpvxyZvjTk\n",
      "1578584156183105536 2022-10-08 03:12:46 +0000 <psgolden_utm> [UKM PADUAN SUARA GOLDEN UNIVERSITAS TRUNOJOYO MADURA]  Assalamu'alaikum Wr. Wb. Selamat Pagi💫 PS Golden Joss💪🏿  Kami segenap keluarga besar Unit Kegiatan Mahasiswa Paduan Suara Golden mengucapkan SELAMAT MEMPERINGATI MAULID NABI MUHAMMAD SAW, 12 RABIUL AWAL 1444 HIJRIAH  https://t.co/OWbZYTFT8V\n",
      "1578279091178196992 2022-10-07 07:00:33 +0000 <utmOfficial> BEDAH BUKU BIOGRAFI SYAICHONA MOH. CHOLIL GURU PARA ULAMA DAN PAHLAWAN NASIONAL, DALAM RANGKA DIES NATALIS FAKULTAS HUKUM UNIVERSITAS TRUNOJOYO MADURA YANG 41. @ Universitas Trunojoyo  https://t.co/Z3c1oa6F54\n",
      "1578233995330195456 2022-10-07 04:01:21 +0000 <mc_ddny> @sbmptnfess Universitas trunojoyo madura\n",
      "1578202971468226560 2022-10-07 01:58:04 +0000 <orderyybitch> Anggota kelompok : -Mohammad Afrizal (220111100002) - Novi Tri Ulfatul Fajriah (220111100008)  -Albani Imam Firdaus (220111100015) - nur muia isnai angraini (220111100011) -Hengky Prasetya (2201111000389)  Kelas A Prodi Ilmu Hukum Fakultas Hukum Universitas Trunojoyo Madura 2022\n",
      "1578190653124620288 2022-10-07 01:09:07 +0000 <UlfatulfajriahN> Anggota kelompok : -Mohammad Afrizal (220111100002) - Novi Tri Ulfatul Fajriah (220111100008)  -Albani Imam Firdaus (220111100015) - nur muia isnai angraini (220111100011) -Hengky Prasetya (2201111000389) Kelas A Prodi Ilmu Hukum Fakultas Hukum Universitas Trunojoyo Madura 2022\n",
      "1577871101538881536 2022-10-06 03:59:20 +0000 <halimah_sifa> @convomfs UTM. Universitas Trunojoyo Madura murceee. UKT tertinggi 3jt gais\n",
      "1577579457845788672 2022-10-05 08:40:27 +0000 <psgolden_utm> [UKM PADUAN SUARA GOLDEN UNIVERSITAS TRUNOJOYO MADURA]  Assalamu'alaikum Wr. Wb. Selamat Sore💫 PS Golden Joss💪  Kami segenap keluarga besar Unit Kegiatan Mahasiswa Paduan Suara Golden mengucapkan Selamat Hari Guru Sedunia 2022  https://t.co/vrU7akz1Xw\n",
      "1577495753261518850 2022-10-05 03:07:50 +0000 <fikrihadi13> Baru saja mengirim foto @ Universitas Trunojoyo Madura  https://t.co/fXeUN3vGyh\n",
      "1577194511767257089 2022-10-04 07:10:49 +0000 <saenimoa> universitas Trunojoyo madura. ukt paling tingginya 3 jt, jeleknya cuma dapet understimate dari temen sekelas pas sma aja sih🤗🤗🤗🤗🤗🤗🤗🤗🤗🤗😔\n",
      "1577106493307990016 2022-10-04 01:21:03 +0000 <RadioElshinta> Apakah langkah Partai Nasdem terlalu cepat ?   Live:   1. Ketua Fraksi Partai Nasdem DKI Jakarta Wibi Andrino  2. Pengamat Politik dari Universitas Trunojoyo Madura, Surochim Abdussalam  https://t.co/scPqizgXR0\n",
      "1576957098373455874 2022-10-03 15:27:25 +0000 <officialMKRI> 1. Wakil Ketua MK Aswanto memberikan ceramah dalam kegiatan Ngaji Konstitusi dengan tema “Konstitusi dan Tanggung Jawab Negara dalam Mewujudkan Adil dan Makmur” yang diselenggarakan oleh Fakultas Hukum Universitas Trunojoyo Madura (UTM) pada Jumat (30/9). (2/5)  https://t.co/IavepSm9ra\n",
      "1576770031110615040 2022-10-03 03:04:05 +0000 <psgolden_utm> [UKM PADUAN SUARA GOLDEN UNIVERSITAS TRUNOJOYO MADURA]  Assalamualaikum Wr. Wb. Selamat Siang PS Golden Joss💪  Kami segenap keluarga besar Unit Kegiatan Mahasiswa Paduan Suara Golden mengucapkan Selamat Menempuh Ujian Tengah Semester Gasal TA 2022/2023  https://t.co/n93zMiN1fz\n",
      "1576750511227039749 2022-10-03 01:46:31 +0000 <psgolden_utm> [UKM PADUAN SUARA GOLDEN UNIVERSITAS TRUNOJOYO MADURA]  Assalamu'alaikum Wr. Wb. Selamat Pagi💫 Ps Golden Joss💪🏼  Segenap Keluarga UKM Paduan Suara Golden UTM Mengucapkan Turut Berduka Cita atas Insiden yang Terjadi di Stadion Kanjuruhan, Malang  https://t.co/Dr9eju3Qc0\n",
      "[!] No more data! Scraping will stop now.\n",
      "found 0 deleted tweets in this search.\n"
     ]
    }
   ],
   "source": [
    "import twint\n",
    "import nest_asyncio\n",
    "nest_asyncio.apply()\n",
    "c = twint.Config()\n",
    "c.Search = 'Universitas Trunojoyo Madura'\n",
    "c.Pandas = True\n",
    "c.Limit = 50\n",
    "twint.run.Search(c)"
   ]
  },
  {
   "cell_type": "markdown",
   "metadata": {
    "id": "JuQbhEEFKveJ"
   },
   "source": [
    "### Membaca Data Tweet"
   ]
  },
  {
   "cell_type": "code",
   "execution_count": null,
   "metadata": {
    "colab": {
     "base_uri": "https://localhost:8080/"
    },
    "id": "tXVLQCyhKjx9",
    "outputId": "9253122c-27dd-4f13-cdce-39d6eb729c55"
   },
   "outputs": [
    {
     "data": {
      "text/plain": [
       "0     PENANDATANGANAN NOTA KESEPAHAMAN DAN PERJANJIA...\n",
       "1     DESA BINAAN  BERBASIS POTENSI LOKAL  “ PENTING...\n",
       "2     Download Logo Universitas Trunojoyo Madura Vec...\n",
       "3     [Unit Kegiatan Mahasiswa Universitas Trunojoyo...\n",
       "4     KONGRES IKATAN ALUMNI FAKULTAS HUKUM UNIVERSIT...\n",
       "5     [UKM PADUAN SUARA GOLDEN UNIVERSITAS TRUNOJOYO...\n",
       "6     BEDAH BUKU BIOGRAFI SYAICHONA MOH. CHOLIL GURU...\n",
       "7              @sbmptnfess Universitas trunojoyo madura\n",
       "8     Anggota kelompok : -Mohammad Afrizal (22011110...\n",
       "9     Anggota kelompok : -Mohammad Afrizal (22011110...\n",
       "10    @convomfs UTM. Universitas Trunojoyo Madura mu...\n",
       "11    [UKM PADUAN SUARA GOLDEN UNIVERSITAS TRUNOJOYO...\n",
       "12    Baru saja mengirim foto @ Universitas Trunojoy...\n",
       "13    universitas Trunojoyo madura. ukt paling tingg...\n",
       "14    Apakah langkah Partai Nasdem terlalu cepat ?  ...\n",
       "15    1. Wakil Ketua MK Aswanto memberikan ceramah d...\n",
       "16    [UKM PADUAN SUARA GOLDEN UNIVERSITAS TRUNOJOYO...\n",
       "17    [UKM PADUAN SUARA GOLDEN UNIVERSITAS TRUNOJOYO...\n",
       "Name: tweet, dtype: object"
      ]
     },
     "execution_count": 7,
     "metadata": {},
     "output_type": "execute_result"
    }
   ],
   "source": [
    "Tweets_dfs = twint.storage.panda.Tweets_df\n",
    "Tweets_dfs[\"tweet\"]"
   ]
  },
  {
   "cell_type": "markdown",
   "metadata": {
    "id": "vnAZhrmiK2ld"
   },
   "source": [
    "### Menyimpan Kedalam file CSV"
   ]
  },
  {
   "cell_type": "code",
   "execution_count": null,
   "metadata": {
    "id": "5oajNj02K5lS"
   },
   "outputs": [],
   "source": [
    "Tweets_dfs[\"tweet\"].to_csv(\"utm.csv\")"
   ]
  }
 ],
 "metadata": {
  "colab": {
   "provenance": []
  },
  "kernelspec": {
   "display_name": "Python 3 (ipykernel)",
   "language": "python",
   "name": "python3"
  },
  "language_info": {
   "codemirror_mode": {
    "name": "ipython",
    "version": 3
   },
   "file_extension": ".py",
   "mimetype": "text/x-python",
   "name": "python",
   "nbconvert_exporter": "python",
   "pygments_lexer": "ipython3",
   "version": "3.10.6"
  }
 },
 "nbformat": 4,
 "nbformat_minor": 1
}
